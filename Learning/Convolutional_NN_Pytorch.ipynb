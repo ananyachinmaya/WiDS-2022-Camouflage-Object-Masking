{
 "cells": [
  {
   "cell_type": "code",
   "execution_count": 3,
   "metadata": {},
   "outputs": [
    {
     "data": {
      "text/plain": [
       "'Basic Review: Convolutional Neural Networks do awesome.\\n    Lets take a very trivial image of a cat. A CNN accepts two dimensional inputs.\\n    Convolution has a goal to locate features of an image.\\n    Lets take 3x3 pixel arrays. It will look for edges, curves and what these edges build like triangles, squares etc\\n    Then it slides this array over and tries to find these features in each part\\n    Then we make an array of numbers which the machine reads as features.\\n    Then it drastically simplifies your image into a bunch of feature.\\n    The first layer is just makes very very basic features like a corner or a edge.\\n    The next layer sees combinations of features into something more advanced and so on.\\n'"
      ]
     },
     "execution_count": 3,
     "metadata": {},
     "output_type": "execute_result"
    }
   ],
   "source": [
    "'''Basic Review: Convolutional Neural Networks do awesome.\n",
    "    Lets take a very trivial image of a cat. A CNN accepts two dimensional inputs.\n",
    "    Convolution has a goal to locate features of an image.\n",
    "    Lets take 3x3 pixel arrays. It will look for edges, curves and what these edges build like triangles, squares etc\n",
    "    Then it slides this array over and tries to find these features in each part\n",
    "    Then we make an array of numbers which the machine reads as features.\n",
    "    Then it drastically simplifies your image into a bunch of feature.\n",
    "    The first layer is just makes very very basic features like a corner or a edge.\n",
    "    The next layer sees combinations of features into something more advanced and so on.\n",
    "'''"
   ]
  },
  {
   "cell_type": "code",
   "execution_count": 4,
   "metadata": {},
   "outputs": [],
   "source": [
    "#Here we make use of the Kaggle Cats vs Dogs Dataset from Microsoft\n",
    "#Link: https://www.microsoft.com/en-us/download/details.aspx?id=54765\n",
    "#I have also added it on the Github page\n",
    "#So every image has a cat or a dog. It's the Neural Network's job to determine which is which"
   ]
  },
  {
   "cell_type": "code",
   "execution_count": 27,
   "metadata": {},
   "outputs": [],
   "source": [
    "import os\n",
    "import cv2\n",
    "import numpy as np\n",
    "from tqdm import tqdm\n",
    "\n",
    "REBUILD_DATA = False    # set to true to one once, then back to false unless you want to change something in your training data.\n",
    "\n",
    "class DogsVSCats():\n",
    "    IMG_SIZE = 50\n",
    "#NOTICE THAT ALL IMAGES ARE OF DIFFERENT SIZE\n",
    "#So we resize all of them to 50x50 for generalization. Sure, it distorts them but for most cases, they\n",
    "# still look like dogs\n",
    "\n",
    "    CATS = \"kagglecatsanddogs_5340/PetImages/Cat\"\n",
    "    DOGS = \"kagglecatsanddogs_5340/PetImages/Dog\"\n",
    "    LABELS = {CATS: 0, DOGS: 1}\n",
    "    training_data = []\n",
    "    catcount = 0\n",
    "    dogcount = 0\n",
    "\n",
    "    def make_training_data(self):\n",
    "        # iterates over cats and dogs\n",
    "        for label in self.LABELS:\n",
    "            print(label)\n",
    "            #we will see why we need tqdm, the following for loop goes to every picture in the Cats Directory and the DOgs directory\n",
    "            for f in tqdm(os.listdir(label)) :\n",
    "                try:\n",
    "                    path = os.path.join(label, f) #eg: --path--/PetImages/Cat/2.jpeg\n",
    "                    img = cv2.imread(path, cv2.IMREAD_GRAYSCALE)  #converts into greyscale #Goal: SIMPLIFY! SIMPLIFY! SIMPLIFY!\n",
    "                    # we are converting to grayscale because color is not exactly something we need to differentiate\n",
    "                    # between cats and dogs so grayscale makes our job easier.\n",
    "                    img = cv2.resize(img, (self.IMG_SIZE, self.IMG_SIZE)) #Resizes images into 50x50 \n",
    "                    self.training_data.append([np.array(img), np.eye(2)[self.LABELS[label]]])\n",
    "        #We're using one hot vectors here. [1, 0] indicates cats and [0, 1] indicates a dog \n",
    "                    if label == self.CATS:\n",
    "                        self.catcount += 1\n",
    "                    elif label == self.DOGS:\n",
    "                        self.dogcount += 1\n",
    "                        \n",
    "                        \n",
    "                except Exception as e:   \n",
    "                    #print(str(e))\n",
    "                    pass\n",
    "                    \n",
    "        np.random.shuffle(self.training_data)\n",
    "        np.save(\"training_data.npy\", self.training_data)  \n",
    "        print(\"Cats: \", self.catcount)\n",
    "        print(\"Dogs: \", self.dogcount)\n",
    "        \n",
    "if REBUILD_DATA:\n",
    "    dogsvcats = DogsVSCats()\n",
    "    dogsvcats.make_training_data()       \n",
    "                           \n",
    "             \n",
    "        \n",
    "\n",
    "\n"
   ]
  },
  {
   "cell_type": "code",
   "execution_count": 16,
   "metadata": {},
   "outputs": [],
   "source": [
    "training_data = np.load(\"training_data.npy\", allow_pickle=True)"
   ]
  },
  {
   "cell_type": "code",
   "execution_count": 26,
   "metadata": {},
   "outputs": [
    {
     "data": {
      "image/png": "[encoded data removed]",
      "text/plain": [
       "<Figure size 640x480 with 1 Axes>"
      ]
     },
     "metadata": {},
     "output_type": "display_data"
    }
   ],
   "source": [
    "import matplotlib.pyplot as plt\n",
    "\n",
    "plt.imshow(training_data[280][0], cmap=\"gray\")\n",
    "plt.show()"
   ]
  },
  {
   "cell_type": "code",
   "execution_count": 29,
   "metadata": {},
   "outputs": [],
   "source": [
    "###############################\n",
    "######NOW FOR THE PYTORCH######\n",
    "###############################"
   ]
  },
  {
   "cell_type": "code",
   "execution_count": 30,
   "metadata": {},
   "outputs": [],
   "source": [
    "import torch\n",
    "import torch.nn as nn\n",
    "import torch.nn.functional as F\n",
    "\n",
    "class Net(nn.Module):\n",
    "    def __init__(self):\n",
    "        super().__init__()\n",
    "        self.conv1 = nn.Conv2d(1, 32, 5)     #makes 5x5 kernel as it rolls over the window\n",
    "        self.conv2 = nn.Conv2d(32, 64, 5) \n",
    "        self.conv3 = nn.Conv2d(64, 128, 5)\n",
    "        \n",
    "        x = torch.randn(50,50).view(-1, 1, 50, 50)\n",
    "        self._to_linear = None\n",
    "        #What are thhe dimensions for the Linear layer? \n",
    "        #First we pass a random data through the neural network and see the dimensions of it after the three layer. just multiply dimensions and you have your flattenend data\n",
    "        self.convs(x)\n",
    "        \n",
    "        #self.fc1 = nn.Linear()\n",
    "        #self.fc2 = nn.Linear(512, 2)    #2 classes- Cats and Dogs\n",
    "        \n",
    "        \n",
    "    def convs(self, x):\n",
    "        # max pooling over 2x2\n",
    "        x = F.max_pool2d(F.relu(self.conv1(x)), (2, 2))\n",
    "        x = F.max_pool2d(F.relu(self.conv2(x)), (2, 2))\n",
    "        x = F.max_pool2d(F.relu(self.conv3(x)), (2, 2))\n",
    "\n",
    "        if self._to_linear is None:\n",
    "            self._to_linear = x[0].shape[0]*x[0].shape[1]*x[0].shape[2]\n",
    "        return x    "
   ]
  },
  {
   "cell_type": "code",
   "execution_count": null,
   "metadata": {},
   "outputs": [],
   "source": []
  }
 ],
 "metadata": {
  "kernelspec": {
   "display_name": "Python 3",
   "language": "python",
   "name": "python3"
  },
  "language_info": {
   "codemirror_mode": {
    "name": "ipython",
    "version": 3
   },
   "file_extension": ".py",
   "mimetype": "text/x-python",
   "name": "python",
   "nbconvert_exporter": "python",
   "pygments_lexer": "ipython3",
   "version": "3.10.7 (tags/v3.10.7:6cc6b13, Sep  5 2022, 14:08:36) [MSC v.1933 64 bit (AMD64)]"
  },
  "orig_nbformat": 4,
  "vscode": {
   "interpreter": {
    "hash": "670b387f3e3b322b29e4adea29f11b6f78e42497539abca64085771265e0cc4d"
   }
  }
 },
 "nbformat": 4,
 "nbformat_minor": 2
}
